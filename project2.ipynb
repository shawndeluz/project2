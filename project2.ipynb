{
 "cells": [
  {
   "cell_type": "markdown",
   "metadata": {},
   "source": [
    "                                                    Final Project\n",
    " \n",
    " Project Overview: We are going to analyze how interest rates affect personal savings rate and real gross private investment in the United States. The theory of interest rates suggests that as interest rate rises personal savings rate should increase while investment decreases. In order to determine the relationship between interest rates, personnal savings rate, and investment, this project will include data of the past 40 years and determine the trends between these variables. A linear regression will be used to determine the trend\n",
    " \n",
    " The purpose of this project is ..."
   ]
  },
  {
   "cell_type": "markdown",
   "metadata": {},
   "source": [
    "The structure of the project:"
   ]
  },
  {
   "cell_type": "code",
   "execution_count": null,
   "metadata": {},
   "outputs": [],
   "source": [
    "hello"
   ]
  }
 ],
 "metadata": {
  "kernelspec": {
   "display_name": "Python 3",
   "language": "python",
   "name": "python3"
  },
  "language_info": {
   "codemirror_mode": {
    "name": "ipython",
    "version": 3
   },
   "file_extension": ".py",
   "mimetype": "text/x-python",
   "name": "python",
   "nbconvert_exporter": "python",
   "pygments_lexer": "ipython3",
   "version": "3.8.3"
  }
 },
 "nbformat": 4,
 "nbformat_minor": 4
}
